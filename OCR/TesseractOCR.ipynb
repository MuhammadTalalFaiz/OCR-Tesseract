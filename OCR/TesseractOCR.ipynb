{
 "cells": [
  {
   "cell_type": "markdown",
   "id": "4fab2ec2",
   "metadata": {},
   "source": [
    "# <font color=\"black\">Assignment 2: Reading Order of Documents using TesseractOCR and OpenCV</font>"
   ]
  },
  {
   "cell_type": "code",
   "execution_count": 1,
   "id": "141e72e7",
   "metadata": {},
   "outputs": [],
   "source": [
    "import cv2\n",
    "import pytesseract\n",
    "pytesseract.pytesseract.tesseract_cmd = r'C:\\Program Files\\Tesseract-OCR\\tesseract.exe'\n",
    "\n"
   ]
  },
  {
   "cell_type": "markdown",
   "id": "fae26331",
   "metadata": {},
   "source": [
    "### <font color=\"black\">Cropped the original document to remove unnecessary noise</font>"
   ]
  },
  {
   "cell_type": "code",
   "execution_count": 2,
   "id": "6f2b3289",
   "metadata": {},
   "outputs": [],
   "source": [
    "image = cv2.imread('Assignment02-Test-Page-Edited.jpg')\n"
   ]
  },
  {
   "cell_type": "markdown",
   "id": "fa1e737d",
   "metadata": {},
   "source": [
    "###  <font color=\"black\">Convert to a gray image for removal of colors if any</font>"
   ]
  },
  {
   "cell_type": "code",
   "execution_count": 3,
   "id": "0a937eb0",
   "metadata": {},
   "outputs": [],
   "source": [
    "gray_image = cv2.cvtColor(image, cv2.COLOR_BGR2GRAY)\n"
   ]
  },
  {
   "cell_type": "markdown",
   "id": "8c58b1c9",
   "metadata": {},
   "source": [
    "###  <font color=\"black\"> Used a Gaussian Blur to help in creating vertical and horizontal contours </font>"
   ]
  },
  {
   "cell_type": "code",
   "execution_count": 4,
   "id": "da575a82",
   "metadata": {},
   "outputs": [
    {
     "data": {
      "text/plain": [
       "True"
      ]
     },
     "execution_count": 4,
     "metadata": {},
     "output_type": "execute_result"
    }
   ],
   "source": [
    "blur=cv2.GaussianBlur(gray_image,(11,11),0)\n",
    "cv2.imwrite('blur.jpg',blur)"
   ]
  },
  {
   "cell_type": "markdown",
   "id": "2400fe2c",
   "metadata": {},
   "source": [
    "### <font color=\"black\"> Inverted Binarized Image </font>"
   ]
  },
  {
   "cell_type": "code",
   "execution_count": 5,
   "id": "5437351d",
   "metadata": {},
   "outputs": [
    {
     "data": {
      "text/plain": [
       "True"
      ]
     },
     "execution_count": 5,
     "metadata": {},
     "output_type": "execute_result"
    }
   ],
   "source": [
    "threshold_image = cv2.threshold(blur, 0, 255, cv2.THRESH_BINARY_INV + cv2.THRESH_OTSU)[1]\n",
    "cv2.imwrite('thresh.jpg',threshold_image)"
   ]
  },
  {
   "cell_type": "markdown",
   "id": "ebb984b5",
   "metadata": {},
   "source": [
    "### <font color=\"black\"> Dilate Image to fill in gaps and Kernel matrix used to isolate contours </font>"
   ]
  },
  {
   "cell_type": "code",
   "execution_count": 6,
   "id": "68c7e150",
   "metadata": {},
   "outputs": [
    {
     "data": {
      "text/plain": [
       "True"
      ]
     },
     "execution_count": 6,
     "metadata": {},
     "output_type": "execute_result"
    }
   ],
   "source": [
    "kernel = cv2.getStructuringElement(cv2.MORPH_RECT, (10,1))\n",
    "cv2.imwrite('kernel.jpg',kernel)\n",
    "dilated_image = cv2.dilate(threshold_image, kernel, iterations=3)\n",
    "cv2.imwrite('dilate.jpg',dilated_image)"
   ]
  },
  {
   "cell_type": "markdown",
   "id": "2fe70d31",
   "metadata": {},
   "source": [
    "### <font color=\"black\"> Find Contours Coordinates</font>"
   ]
  },
  {
   "cell_type": "code",
   "execution_count": 7,
   "id": "b86c2a17",
   "metadata": {},
   "outputs": [],
   "source": [
    "contours=cv2.findContours(dilated_image,cv2.RETR_EXTERNAL,cv2.CHAIN_APPROX_SIMPLE)"
   ]
  },
  {
   "cell_type": "code",
   "execution_count": 8,
   "id": "55ff6410",
   "metadata": {},
   "outputs": [],
   "source": [
    "contours=contours[0] if len(contours)==2 else contours[1]"
   ]
  },
  {
   "cell_type": "markdown",
   "id": "025e61d5",
   "metadata": {},
   "source": [
    "### <font color=\"black\">Convert to coordinates for rectangle creation through opencv</font>"
   ]
  },
  {
   "cell_type": "code",
   "execution_count": 9,
   "id": "156f1cfc",
   "metadata": {},
   "outputs": [
    {
     "data": {
      "text/plain": [
       "True"
      ]
     },
     "execution_count": 9,
     "metadata": {},
     "output_type": "execute_result"
    }
   ],
   "source": [
    "for c in contours:\n",
    "    x,y,w,h=cv2.boundingRect(c)\n",
    "    cv2.rectangle(image,(x,y),(x+w,y+h),(0,255,0),2)\n",
    "cv2.imwrite('final.jpg',image)"
   ]
  },
  {
   "cell_type": "markdown",
   "id": "9cd75020",
   "metadata": {},
   "source": [
    "## <font color=\"black\">Note: Couldn't Remove Signatures as Ink Weight is close to that of Typed characters weight</font>"
   ]
  },
  {
   "cell_type": "markdown",
   "id": "a136de5b",
   "metadata": {},
   "source": [
    "## <font color=\"black\">Q2: Creation of DAG </font>"
   ]
  },
  {
   "cell_type": "code",
   "execution_count": 10,
   "id": "ce63c597",
   "metadata": {},
   "outputs": [],
   "source": [
    "class LineSegmentNode:\n",
    "    def __init__(self, x, y, w, h):\n",
    "        self.x = x\n",
    "        self.y = y\n",
    "        self.w = w\n",
    "        self.h = h\n",
    "        self.x_range = (x, x+w)\n",
    "        self.y_range = (y, y+h)\n",
    "        self.children = []\n",
    "\n",
    "    def add_child(self, child):\n",
    "        self.children.append(child)\n"
   ]
  },
  {
   "cell_type": "markdown",
   "id": "0b7da2e2",
   "metadata": {},
   "source": [
    "### <font color=\"black\">Define conditions for edge creation </font>"
   ]
  },
  {
   "cell_type": "code",
   "execution_count": 11,
   "id": "cfa78067",
   "metadata": {},
   "outputs": [],
   "source": [
    "def is_above(a, b):\n",
    "    return a.y < b.y\n",
    "\n",
    "def is_left_of(a, b):\n",
    "    return a.x + a.w <= b.x\n",
    "\n",
    "def is_overlapping(a, b):\n",
    "    return a.x_range[1] >= b.x_range[0] and a.x_range[0] <= b.x_range[1]\n",
    "\n",
    "def is_between(a, b, c):\n",
    "    return a.y_range[0] <= c.y <= b.y_range[1]"
   ]
  },
  {
   "cell_type": "markdown",
   "id": "2965cac3",
   "metadata": {},
   "source": [
    "### <font color=\"black\">Building DAG</font>"
   ]
  },
  {
   "cell_type": "code",
   "execution_count": 12,
   "id": "20139367",
   "metadata": {},
   "outputs": [],
   "source": [
    "line_segments = []\n",
    "for c in contours:\n",
    "    x,y,w,h=cv2.boundingRect(c)\n",
    "    line_segments.append(LineSegmentNode(x, y, w, h))\n",
    "\n",
    "for i, a in enumerate(line_segments):\n",
    "    for j in range(i):\n",
    "        b = line_segments[j]\n",
    "        if is_overlapping(a, b) and is_above(a, b):\n",
    "            a.add_child(b)\n",
    "        elif is_left_of(a, b):\n",
    "            c_found = False\n",
    "            for c in line_segments[j+1:i]:\n",
    "                if is_between(a, b, c) and is_overlapping(a, c) and is_overlapping(b, c):\n",
    "                    c_found = True\n",
    "                    break\n",
    "            if not c_found:\n",
    "                a.add_child(b)\n"
   ]
  },
  {
   "cell_type": "markdown",
   "id": "d11c68e7",
   "metadata": {},
   "source": [
    "## <font color=\"black\"> Drawing Line Segments through Graph Traversal </font>"
   ]
  },
  {
   "cell_type": "code",
   "execution_count": 13,
   "id": "39f44b3f",
   "metadata": {},
   "outputs": [
    {
     "data": {
      "text/plain": [
       "True"
      ]
     },
     "execution_count": 13,
     "metadata": {},
     "output_type": "execute_result"
    }
   ],
   "source": [
    "def draw_line_segments(node, image):\n",
    "    cv2.rectangle(image, (node.x, node.y), (node.x + node.w, node.y + node.h), (0, 255, 0), 2)\n",
    "    for child in node.children:\n",
    "        draw_line_segments(child, image)\n",
    "for i,node in enumerate(line_segments):\n",
    "    if not node.children:\n",
    "        draw_line_segments(node, image)\n",
    "cv2.imwrite('finalgraphed.jpg',image)"
   ]
  },
  {
   "cell_type": "markdown",
   "id": "1add75bc",
   "metadata": {},
   "source": [
    "## <font color=\"black\">Sorted By Width with OrderNumber </font>"
   ]
  },
  {
   "cell_type": "code",
   "execution_count": 14,
   "id": "6e114391",
   "metadata": {},
   "outputs": [
    {
     "data": {
      "text/plain": [
       "True"
      ]
     },
     "execution_count": 14,
     "metadata": {},
     "output_type": "execute_result"
    }
   ],
   "source": [
    "line_segments.sort(key=lambda x: x.w)\n",
    "\n",
    "for i, node in enumerate(line_segments):\n",
    "    cv2.rectangle(image, (node.x, node.y), (node.x + node.w, node.y + node.h), (0, 255, 0), 2)\n",
    "    cv2.putText(image, str(i+1), (node.x-5, node.y+15), cv2.FONT_HERSHEY_SIMPLEX, 0.5, (0, 0, 255), 2)\n",
    "\n",
    "cv2.imwrite('sorted_line_segments.jpg', image)"
   ]
  },
  {
   "cell_type": "markdown",
   "id": "74b170a1",
   "metadata": {},
   "source": [
    "## <font color=\"black\">After Topological Sort</font>"
   ]
  },
  {
   "cell_type": "code",
   "execution_count": 13,
   "id": "c92f9eef",
   "metadata": {},
   "outputs": [
    {
     "data": {
      "text/plain": [
       "True"
      ]
     },
     "execution_count": 13,
     "metadata": {},
     "output_type": "execute_result"
    }
   ],
   "source": [
    "\n",
    "def topological_sort(node, stack, visited):\n",
    "    visited.add(node)\n",
    "    for child in node.children:\n",
    "        if child not in visited:\n",
    "            topological_sort(child, stack, visited)\n",
    "    stack.append(node)\n",
    "\n",
    "\n",
    "all_nodes = line_segments.copy()\n",
    "\n",
    "\n",
    "no_incoming_edges = []\n",
    "for node in line_segments:\n",
    "    has_parent = False\n",
    "    for other_node in line_segments:\n",
    "        if node in other_node.children:\n",
    "            has_parent = True\n",
    "            break\n",
    "    if not has_parent:\n",
    "        no_incoming_edges.append(node)\n",
    "\n",
    "\n",
    "stack = []\n",
    "visited = set()\n",
    "for node in no_incoming_edges:\n",
    "    topological_sort(node, stack, visited)\n",
    "\n",
    "\n",
    "order_number = 1\n",
    "for node in reversed(stack):\n",
    "    cv2.rectangle(image, (node.x, node.y), (node.x + node.w, node.y + node.h), (0, 255, 0), 2)\n",
    "    cv2.putText(image, str(order_number), (node.x, node.y - 5), cv2.FONT_HERSHEY_SIMPLEX, 0.5, (0, 0, 255), 2)\n",
    "    order_number += 1\n",
    "\n",
    "\n",
    "cv2.imwrite('topological_sorted.jpg', image)\n"
   ]
  },
  {
   "cell_type": "markdown",
   "id": "844b923a",
   "metadata": {},
   "source": [
    "# <font color=\"black\">Generic Function for Images</font>"
   ]
  },
  {
   "cell_type": "code",
   "execution_count": 2,
   "id": "4f55cc4e",
   "metadata": {},
   "outputs": [],
   "source": [
    "class LineSegmentNode:\n",
    "    def __init__(self, x, y, w, h):\n",
    "        self.x = x\n",
    "        self.y = y\n",
    "        self.w = w\n",
    "        self.h = h\n",
    "        self.x_range = (x, x+w)\n",
    "        self.y_range = (y, y+h)\n",
    "        self.children = []\n",
    "\n",
    "    def add_child(self, child):\n",
    "        self.children.append(child)\n",
    "\n",
    "    \n",
    "        \n",
    "def is_above(a, b):\n",
    "    return a.y < b.y\n",
    "\n",
    "def is_left_of(a, b):\n",
    "    return a.x_range[1] <= b.x\n",
    "\n",
    "def is_overlapping(a, b):\n",
    "    return a.x_range[1] >= b.x_range[0] and a.x_range[0] <= b.x_range[1]\n",
    "\n",
    "def is_between(a, b, c):\n",
    "    return a.y_range[0] <= c.y_range[1]<= b.y_range[1] \n",
    "\n",
    "\n",
    "\n",
    "\n",
    "def OCR(input_image,blur,kw,diterate):\n",
    "    global image\n",
    "    image= cv2.imread(input_image+'.jpg')\n",
    "    gray_image = cv2.cvtColor(image, cv2.COLOR_BGR2GRAY)\n",
    "    blur=cv2.GaussianBlur(gray_image,(blur,blur),0)\n",
    "    cv2.imwrite(input_image+'_blur'+'.jpg',blur)\n",
    "    threshold_image = cv2.threshold(blur, 0, 255, cv2.THRESH_BINARY_INV + cv2.THRESH_OTSU)[1]\n",
    "    cv2.imwrite(input_image+'_thresh'+'.jpg',threshold_image)\n",
    "    kernel = cv2.getStructuringElement(cv2.MORPH_RECT, (kw,1))\n",
    "    cv2.imwrite(input_image+'_kernel.jpg',kernel)\n",
    "    dilated_image = cv2.dilate(threshold_image, kernel, iterations=diterate)\n",
    "    cv2.imwrite(input_image+'_dilate.jpg',dilated_image)\n",
    "    contours=cv2.findContours(dilated_image,cv2.RETR_EXTERNAL,cv2.CHAIN_APPROX_SIMPLE)\n",
    "    contours=contours[0] if len(contours)==2 else contours[1]\n",
    "    global line_segments\n",
    "    line_segments=[]\n",
    "    for c in contours:\n",
    "        x,y,w,h=cv2.boundingRect(c)\n",
    "        cv2.rectangle(image,(x,y),(x+w,y+h),(0,255,0),1)\n",
    "        line_segments.append(LineSegmentNode(x, y, w, h))\n",
    "    cv2.imwrite(input_image+'_bounded.jpg',image)\n",
    "    \n",
    "    for i, a in enumerate(line_segments):\n",
    "        for j in range(i):\n",
    "            b = line_segments[j]\n",
    "            if is_left_of(a, b):\n",
    "                c_found = False\n",
    "                for c in line_segments[j+1:i]:\n",
    "                    if is_between(a, b, c) and is_overlapping(a, c) and is_overlapping(b, c):\n",
    "                        c_found = True\n",
    "                        break\n",
    "                if not c_found:\n",
    "                    a.add_child(b)\n",
    "            elif is_overlapping(a, b) and is_above(a, b):\n",
    "                a.add_child(b)\n",
    "\n",
    "    \n",
    "#OCR('Assignment02-Test-Page-Edited',11,10,3)\n",
    "#OCR('ResearchPaper',1,13,2)\n",
    "#OCR('Ad',13,7,3)\n",
    "OCR('Columnx2',13,8,2)\n",
    "\n",
    "\n",
    "    \n",
    "    \n"
   ]
  },
  {
   "cell_type": "markdown",
   "id": "d40e705c",
   "metadata": {},
   "source": [
    "## <font color=\"black\">Sorted By Width Draw</font>"
   ]
  },
  {
   "cell_type": "code",
   "execution_count": 4,
   "id": "268877ed",
   "metadata": {},
   "outputs": [],
   "source": [
    "def SortByWidthDraw(input_image):\n",
    "    line_segments.sort(key=lambda x: x.w)\n",
    "\n",
    "    for i, node in enumerate(line_segments):\n",
    "        cv2.rectangle(image, (node.x, node.y), (node.x + node.w, node.y + node.h), (0, 255, 0), 1)\n",
    "        cv2.putText(image, str(i+1), (node.x+5, node.y+15), cv2.FONT_HERSHEY_SIMPLEX, 0.5, (0, 0, 255), 2)\n",
    "\n",
    "    cv2.imwrite(input_image+'sorted_line_segments.jpg', image)\n",
    "#SortByWidthDraw('Assignment02-Test-Page-Edited')\n",
    "#SortByWidthDraw('ResearchPaper')\n",
    "#SortByWidthDraw('Ad')\n",
    "SortByWidthDraw('Columnx2')"
   ]
  },
  {
   "cell_type": "markdown",
   "id": "30871072",
   "metadata": {},
   "source": [
    "## <font color=\"black\">Q4: Topological Sort Draw</font> "
   ]
  },
  {
   "cell_type": "code",
   "execution_count": 10,
   "id": "331d9759",
   "metadata": {},
   "outputs": [],
   "source": [
    "def topological_sort(node, stack, visited):\n",
    "    visited.add(node)\n",
    "    for child in node.children:\n",
    "        if child not in visited:\n",
    "            topological_sort(child, stack, visited)\n",
    "    stack.append(node)\n",
    "\n",
    "\n",
    "all_nodes = line_segments.copy()\n",
    "\n",
    "\n",
    "no_incoming_edges = []\n",
    "for node in line_segments:\n",
    "    has_parent = False\n",
    "    for other_node in line_segments:\n",
    "        if node in other_node.children:\n",
    "            has_parent = True\n",
    "            break\n",
    "    if not has_parent:\n",
    "        no_incoming_edges.append(node)\n",
    "\n",
    "\n",
    "stack = []\n",
    "visited = set()\n",
    "for node in no_incoming_edges:\n",
    "    topological_sort(node, stack, visited)\n",
    "\n",
    "\n",
    "order_number = 1\n",
    "for node in reversed(stack):\n",
    "    cv2.rectangle(image, (node.x, node.y), (node.x + node.w, node.y + node.h), (0, 255, 0), 1)\n",
    "    cv2.putText(image, str(order_number), (node.x, node.y + 10), cv2.FONT_HERSHEY_SIMPLEX, 0.5, (0, 0, 255), 2)\n",
    "    order_number += 1\n",
    "\n",
    "def TopologicalSortSave(input_image):\n",
    "    cv2.imwrite(input_image+'topological_sorted.jpg', image)\n",
    "#TopologicalSortSave('Assignment02-Test-Page-Edited')\n",
    "#TopologicalSortSave('ResearchPaper')\n",
    "#TopologicalSortSave('Ad')\n",
    "TopologicalSortSave('Columnx2')"
   ]
  }
 ],
 "metadata": {
  "kernelspec": {
   "display_name": "Python 3 (ipykernel)",
   "language": "python",
   "name": "python3"
  },
  "language_info": {
   "codemirror_mode": {
    "name": "ipython",
    "version": 3
   },
   "file_extension": ".py",
   "mimetype": "text/x-python",
   "name": "python",
   "nbconvert_exporter": "python",
   "pygments_lexer": "ipython3",
   "version": "3.9.13"
  }
 },
 "nbformat": 4,
 "nbformat_minor": 5
}
